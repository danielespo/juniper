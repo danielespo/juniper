{
 "cells": [
  {
   "cell_type": "code",
   "execution_count": null,
   "metadata": {},
   "outputs": [],
   "source": [
    "import numpy as np \n",
    "\n",
    "# Main idea: already have all the HLS modules finished except the controller\n",
    "# Might as well clear my head and make a full-cycle accurate simulator in Python\n",
    "# and then use the code to finish the controller \n",
    "\n",
    "# https://ucsbarchlab.github.io/PyRTL/\n",
    "# https://github.com/kyaso/py-v/blob/main/pyv/clocked.py"
   ]
  },
  {
   "cell_type": "code",
   "execution_count": null,
   "metadata": {},
   "outputs": [],
   "source": [
    "# Why is it a good idea to do this? I thought just finishing the controller\n",
    "# and then debugging the HLS was a good idea?"
   ]
  },
  {
   "cell_type": "code",
   "execution_count": null,
   "metadata": {},
   "outputs": [],
   "source": []
  }
 ],
 "metadata": {
  "language_info": {
   "name": "python"
  }
 },
 "nbformat": 4,
 "nbformat_minor": 2
}
