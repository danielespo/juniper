{
 "cells": [
  {
   "cell_type": "code",
   "execution_count": 1,
   "metadata": {},
   "outputs": [],
   "source": [
    "import numpy as np \n",
    "import networkx as nx\n",
    "import matplotlib.pyplot as plt\n",
    "from itertools import combinations\n",
    "import random\n",
    "import argparse\n",
    "import networkx as nx\n",
    "from itertools import combinations\n",
    "import time"
   ]
  },
  {
   "cell_type": "code",
   "execution_count": null,
   "metadata": {},
   "outputs": [],
   "source": [
    "%%capture\n",
    "\"\"\"\n",
    "Reproducing the results for WalkSAT/SKC. Same set of benchmark problems, \n",
    "performance metrics (TTS, i.e. #flips to solution, and/or #flips to solvability), \n",
    "hyperparameters (MAX_FLIP and random walk probability p), and the \n",
    "same sample size for a fair apple-to-apple comparison with previous work.\n",
    "\"\"\""
   ]
  },
  {
   "cell_type": "code",
   "execution_count": 9,
   "metadata": {},
   "outputs": [],
   "source": [
    "def read_dimacs(filename): # int num_vars, array clauses\n",
    "    clauses = []\n",
    "    with open(filename, 'r') as file:\n",
    "        for line in file:\n",
    "            if line.startswith('p'):\n",
    "                parts = line.strip().split()\n",
    "                if len(parts) >= 4:\n",
    "                    _, _, variables, _ = parts[:4]\n",
    "                    num_vars = int(variables)\n",
    "                else:\n",
    "                    raise ValueError(\"Invalid CNF file format in 'p' line.\")\n",
    "            elif line.startswith('c') or line.startswith('%') or line.startswith('0'):\n",
    "                continue\n",
    "            else:\n",
    "                clause = list(map(int, line.strip().split()))\n",
    "                # Remove the trailing 0 if present\n",
    "                if clause and clause[-1] == 0:\n",
    "                    clause = clause[:-1]\n",
    "                if clause:\n",
    "                    clauses.append(clause)\n",
    "    return num_vars, clauses"
   ]
  },
  {
   "cell_type": "code",
   "execution_count": 7,
   "metadata": {},
   "outputs": [],
   "source": [
    "def walkSAT(clauses, max_tries, max_flips, p): # assignment, _Tries, _Flips, flips\n",
    "    flips = 0\n",
    "    def evaluate_clause(clause, assignment):\n",
    "        return any((var > 0 and assignment.get(abs(var), False)) or \n",
    "                   (var < 0 and not assignment.get(abs(var), False)) for var in clause)\n",
    "\n",
    "    def get_unsatisfied_clauses(clauses, assignment):\n",
    "        return [clause for clause in clauses if not evaluate_clause(clause, assignment)]\n",
    "\n",
    "    def get_variables(clauses):\n",
    "        return set(abs(var) for clause in clauses for var in clause)\n",
    "\n",
    "    def flip_variable(assignment, var):\n",
    "        assignment[var] = not assignment[var]\n",
    "\n",
    "    for _Tries in range(max_tries):\n",
    "        variables = list(get_variables(clauses))\n",
    "        assignment = {var: random.choice([True, False]) for var in variables}\n",
    "        \n",
    "        for _Flips in range(max_flips):\n",
    "\n",
    "            unsatisfied = get_unsatisfied_clauses(clauses, assignment)\n",
    "            if not unsatisfied:\n",
    "                return assignment, _Tries, _Flips, flips  # Found a satisfying assignment\n",
    "            \n",
    "            clause = random.choice(unsatisfied)\n",
    "            if random.random() < p:\n",
    "                # Flip a random variable from the clause\n",
    "                var_to_flip = abs(random.choice(clause))\n",
    "            else:\n",
    "                # Flip a variable that minimizes the number of unsatisfied clauses if flipped\n",
    "                break_counts = []\n",
    "                for var in clause:\n",
    "                    assignment[abs(var)] = not assignment[abs(var)]\n",
    "                    break_counts.append((len(get_unsatisfied_clauses(clauses, assignment)), abs(var)))\n",
    "                    assignment[abs(var)] = not assignment[abs(var)]  # Undo the flip\n",
    "                \n",
    "                min_break = min(break_counts, key=lambda x: x[0])\n",
    "                vars_with_min_break = [var for break_count, var in break_counts if break_count == min_break[0]]\n",
    "                var_to_flip = random.choice(vars_with_min_break)\n",
    "            \n",
    "            flip_variable(assignment, var_to_flip)\n",
    "            flips += 1\n",
    "\n",
    "    return \"FAIL\""
   ]
  },
  {
   "cell_type": "code",
   "execution_count": 39,
   "metadata": {},
   "outputs": [
    {
     "name": "stdout",
     "output_type": "stream",
     "text": [
      "0.014627238007960841\n",
      "82\n"
     ]
    }
   ],
   "source": [
    "num_vars, clauses = read_dimacs(\"/home/dae/SatExperiments/juniper/uf50suiteSATLIB/uf5001.cnf\")\n",
    "start = time.perf_counter()\n",
    "solution_object = walkSAT(clauses, 1, 1000, 0.5)\n",
    "end = time.perf_counter()\n",
    "if solution_object != \"FAIL\": #if we satisfied the problem\n",
    "    time_to_solution = end-start #in seconds, time to solution\n",
    "    flips_to_solution = solution_object[2]\n",
    "    print(time_to_solution)\n",
    "    print(flips_to_solution)\n",
    "    "
   ]
  }
 ],
 "metadata": {
  "kernelspec": {
   "display_name": "myenv",
   "language": "python",
   "name": "python3"
  },
  "language_info": {
   "codemirror_mode": {
    "name": "ipython",
    "version": 3
   },
   "file_extension": ".py",
   "mimetype": "text/x-python",
   "name": "python",
   "nbconvert_exporter": "python",
   "pygments_lexer": "ipython3",
   "version": "3.12.4"
  }
 },
 "nbformat": 4,
 "nbformat_minor": 2
}
